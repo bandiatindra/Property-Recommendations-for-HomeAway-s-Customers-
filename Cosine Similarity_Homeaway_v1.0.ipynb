{
 "cells": [
  {
   "cell_type": "markdown",
   "metadata": {},
   "source": [
    "### Cosine Similarity\n",
    "\n",
    "Below is the code to calculate cosine similarity between property descriptions and customer reviews for each of the 4 groups we defined earlier. We will calculate the cosine similarity using the set of words which we used to define the 4 groups with the words that make up the description of a property.\n",
    "\n",
    "We will classify each of the property into one of the 4 groups (Homesize, Surroundings, Amenities and Location) using their cosine similarity scores."
   ]
  },
  {
   "cell_type": "code",
   "execution_count": 1,
   "metadata": {},
   "outputs": [],
   "source": [
    "import csv\n",
    "import pandas as pd\n",
    "import nltk\n",
    "import numpy as np\n",
    "from nltk.tokenize import PunktSentenceTokenizer,RegexpTokenizer\n",
    "from nltk.corpus import stopwords\n",
    "from nltk.stem import WordNetLemmatizer\n",
    "from scipy import sparse\n",
    "from sklearn.feature_extraction.text import CountVectorizer\n",
    "from sklearn.metrics.pairwise import pairwise_distances\n",
    "import warnings"
   ]
  },
  {
   "cell_type": "code",
   "execution_count": 2,
   "metadata": {},
   "outputs": [
    {
     "name": "stdout",
     "output_type": "stream",
     "text": [
      "Number of rows with null values:\n",
      "19\n"
     ]
    }
   ],
   "source": [
    "#to ignore deprecation warnings\n",
    "warnings.filterwarnings(\"ignore\", category=DeprecationWarning) \n",
    "\n",
    "#Please use xlsx file format to read the data\n",
    "#I faced issues with csv\n",
    "prop_df=pd.read_csv(\"C:/Users/bandi/Desktop/Text Analytics/Group Project/property_descriptions.csv\")\n",
    "\n",
    "#checking for nulls if present any\n",
    "print(\"Number of rows with null values:\")\n",
    "print(prop_df.isnull().sum().sum())\n",
    "prop_df=prop_df.dropna() \n",
    "\n"
   ]
  },
  {
   "cell_type": "code",
   "execution_count": 3,
   "metadata": {},
   "outputs": [],
   "source": [
    "# Removing stop words from property descriptions\n",
    "from nltk.tokenize import sent_tokenize, word_tokenize\n",
    "prop_df['headline'] = prop_df['headline'].apply(word_tokenize).apply(list)\n",
    "stop_words = set(stopwords.words('english'))\n",
    "def remove_stopwords(s):\n",
    "    return [w for w in s if not w in stop_words] \n",
    "    \n",
    "prop_df['headline'] =  prop_df['headline'].apply(remove_stopwords)"
   ]
  },
  {
   "cell_type": "code",
   "execution_count": 4,
   "metadata": {},
   "outputs": [],
   "source": [
    "# Converting bag of words to sentence after removing stop words\n",
    "def convert_to_words(s):\n",
    "    return \" \".join(s)\n",
    "prop_df['headline'] =  prop_df['headline'].apply(convert_to_words)"
   ]
  },
  {
   "cell_type": "markdown",
   "metadata": {},
   "source": [
    "## Topic 0 - Homesize"
   ]
  },
  {
   "cell_type": "code",
   "execution_count": 5,
   "metadata": {},
   "outputs": [],
   "source": [
    "# Reading the attributes file\n",
    "# Check into the \"attributes.txt\" file for the proper format\n",
    "# Each attribute has to be listed in a new line.\n",
    "attributes=list(line.strip() for line in open('attribute0.txt'))\n",
    "attributes=\" \".join(attributes)"
   ]
  },
  {
   "cell_type": "code",
   "execution_count": 6,
   "metadata": {},
   "outputs": [],
   "source": [
    "# Merging attibutes to the review\n",
    "# Restaurant_review is the name of the column with review text.\n",
    "\n",
    "tempDataFrame=pd.DataFrame({'headline':[attributes]})\n",
    "tempDataFrame=tempDataFrame.transpose()\n",
    "description_list1=prop_df['headline']\n",
    "frames = [tempDataFrame, description_list1]\n",
    "result = pd.concat(frames)\n",
    "result.columns = ['Property description']\n",
    "result=result.reset_index()"
   ]
  },
  {
   "cell_type": "code",
   "execution_count": 7,
   "metadata": {},
   "outputs": [
    {
     "name": "stdout",
     "output_type": "stream",
     "text": [
      "The size of the vocabulary space:\n",
      "(189, 535)\n"
     ]
    }
   ],
   "source": [
    "# Building bag of words using frequency\n",
    "\n",
    "vec_words = CountVectorizer(decode_error='ignore')\n",
    "total_features_words = vec_words.fit_transform(result['Property description'])\n",
    "print(\"The size of the vocabulary space:\")\n",
    "print(total_features_words.shape)"
   ]
  },
  {
   "cell_type": "code",
   "execution_count": 8,
   "metadata": {},
   "outputs": [],
   "source": [
    "# Calculating pairwise cosine similarity\n",
    "\n",
    "subset_sparse = sparse.csr_matrix(total_features_words)\n",
    "total_features_review=subset_sparse\n",
    "total_features_attr=subset_sparse[0,]\n",
    "similarity=1-pairwise_distances(total_features_attr,total_features_review, metric='cosine')\n",
    "\n",
    "\n",
    "#Assigning the similarity score to dataframe\n",
    "# similarity=np.array(similarities[0]).reshape(-1,).tolist()\n",
    "similarity=pd.DataFrame(similarity)\n",
    "similarity=similarity.transpose()\n",
    "similarity.columns = ['similarity']\n",
    "similarity=similarity.drop(similarity.index[[0]])\n",
    "prop_df_0=prop_df.assign(similarity=similarity.values)\n",
    "\n",
    "#writing to an output file\n",
    "prop_df_0.to_excel(\"similarity_score0.xlsx\",index=False)"
   ]
  },
  {
   "cell_type": "markdown",
   "metadata": {},
   "source": [
    "## Topic 1 - Surroundings"
   ]
  },
  {
   "cell_type": "code",
   "execution_count": 252,
   "metadata": {},
   "outputs": [],
   "source": [
    "attributes=list(line.strip() for line in open('attribute1.txt'))\n",
    "attributes=\" \".join(attributes)"
   ]
  },
  {
   "cell_type": "code",
   "execution_count": 253,
   "metadata": {},
   "outputs": [
    {
     "name": "stdout",
     "output_type": "stream",
     "text": [
      "The size of the vocabulary space:\n",
      "(189, 535)\n"
     ]
    }
   ],
   "source": [
    "tempDataFrame=pd.DataFrame({'headline':[attributes]})\n",
    "tempDataFrame=tempDataFrame.transpose()\n",
    "description_list1=prop_df['headline']\n",
    "frames = [tempDataFrame, description_list1]\n",
    "result = pd.concat(frames)\n",
    "result.columns = ['Property description']\n",
    "result=result.reset_index()\n",
    "vec_words = CountVectorizer(decode_error='ignore')\n",
    "total_features_words = vec_words.fit_transform(result['Property description'])\n",
    "print(\"The size of the vocabulary space:\")\n",
    "print(total_features_words.shape)\n",
    "\n",
    "#Calculating pairwise cosine similarity\n",
    "\n",
    "subset_sparse = sparse.csr_matrix(total_features_words)\n",
    "total_features_review=subset_sparse\n",
    "total_features_attr=subset_sparse[0,]\n",
    "similarity=1-pairwise_distances(total_features_attr,total_features_review, metric='cosine')\n",
    "\n",
    "\n",
    "#Assigning the similarity score to dataframe\n",
    "# similarity=np.array(similarities[0]).reshape(-1,).tolist()\n",
    "similarity=pd.DataFrame(similarity)\n",
    "similarity=similarity.transpose()\n",
    "similarity.columns = ['similarity']\n",
    "similarity=similarity.drop(similarity.index[[0]])\n",
    "prop_df_1=prop_df.assign(similarity=similarity.values)\n",
    "\n",
    "#writing to an output file\n",
    "prop_df_1.to_excel(\"similarity_score1.xlsx\",index=False)"
   ]
  },
  {
   "cell_type": "markdown",
   "metadata": {},
   "source": [
    "## Topic 2 - Amenities"
   ]
  },
  {
   "cell_type": "code",
   "execution_count": 254,
   "metadata": {},
   "outputs": [
    {
     "name": "stdout",
     "output_type": "stream",
     "text": [
      "The size of the vocabulary space:\n",
      "(189, 543)\n"
     ]
    }
   ],
   "source": [
    "attributes=list(line.strip() for line in open('attribute2.txt'))\n",
    "attributes=\" \".join(attributes)\n",
    "\n",
    "tempDataFrame=pd.DataFrame({'headline':[attributes]})\n",
    "tempDataFrame=tempDataFrame.transpose()\n",
    "description_list1=prop_df['headline']\n",
    "frames = [tempDataFrame, description_list1]\n",
    "result = pd.concat(frames)\n",
    "result.columns = ['Property description']\n",
    "result=result.reset_index()\n",
    "vec_words = CountVectorizer(decode_error='ignore')\n",
    "total_features_words = vec_words.fit_transform(result['Property description'])\n",
    "print(\"The size of the vocabulary space:\")\n",
    "print(total_features_words.shape)\n",
    "\n",
    "#Calculating pairwise cosine similarity\n",
    "\n",
    "subset_sparse = sparse.csr_matrix(total_features_words)\n",
    "total_features_review=subset_sparse\n",
    "total_features_attr=subset_sparse[0,]\n",
    "similarity=1-pairwise_distances(total_features_attr,total_features_review, metric='cosine')\n",
    "\n",
    "\n",
    "#Assigning the similarity score to dataframe\n",
    "# similarity=np.array(similarities[0]).reshape(-1,).tolist()\n",
    "similarity=pd.DataFrame(similarity)\n",
    "similarity=similarity.transpose()\n",
    "similarity.columns = ['similarity']\n",
    "similarity=similarity.drop(similarity.index[[0]])\n",
    "prop_df_2=prop_df.assign(similarity=similarity.values)\n",
    "\n",
    "#writing to an output file\n",
    "prop_df_2.to_excel(\"similarity_score2.xlsx\",index=False)"
   ]
  },
  {
   "cell_type": "markdown",
   "metadata": {},
   "source": [
    "## Topic 3 - Location"
   ]
  },
  {
   "cell_type": "code",
   "execution_count": 255,
   "metadata": {},
   "outputs": [
    {
     "name": "stdout",
     "output_type": "stream",
     "text": [
      "The size of the vocabulary space:\n",
      "(189, 533)\n"
     ]
    }
   ],
   "source": [
    "attributes=list(line.strip() for line in open('attribute3.txt'))\n",
    "attributes=\" \".join(attributes)\n",
    "\n",
    "tempDataFrame=pd.DataFrame({'headline':[attributes]})\n",
    "tempDataFrame=tempDataFrame.transpose()\n",
    "description_list1=prop_df['headline']\n",
    "frames = [tempDataFrame, description_list1]\n",
    "result = pd.concat(frames)\n",
    "result.columns = ['Property description']\n",
    "result=result.reset_index()\n",
    "vec_words = CountVectorizer(decode_error='ignore')\n",
    "total_features_words = vec_words.fit_transform(result['Property description'])\n",
    "print(\"The size of the vocabulary space:\")\n",
    "print(total_features_words.shape)\n",
    "\n",
    "#Calculating pairwise cosine similarity\n",
    "\n",
    "subset_sparse = sparse.csr_matrix(total_features_words)\n",
    "total_features_review=subset_sparse\n",
    "total_features_attr=subset_sparse[0,]\n",
    "similarity=1-pairwise_distances(total_features_attr,total_features_review, metric='cosine')\n",
    "\n",
    "\n",
    "#Assigning the similarity score to dataframe\n",
    "# similarity=np.array(similarities[0]).reshape(-1,).tolist()\n",
    "similarity=pd.DataFrame(similarity)\n",
    "similarity=similarity.transpose()\n",
    "similarity.columns = ['similarity']\n",
    "similarity=similarity.drop(similarity.index[[0]])\n",
    "prop_df_3=prop_df.assign(similarity=similarity.values)\n",
    "\n",
    "#writing to an output file\n",
    "prop_df_3.to_excel(\"similarity_score3.xlsx\",index=False)"
   ]
  }
 ],
 "metadata": {
  "kernelspec": {
   "display_name": "Python 3",
   "language": "python",
   "name": "python3"
  },
  "language_info": {
   "codemirror_mode": {
    "name": "ipython",
    "version": 3
   },
   "file_extension": ".py",
   "mimetype": "text/x-python",
   "name": "python",
   "nbconvert_exporter": "python",
   "pygments_lexer": "ipython3",
   "version": "3.6.5"
  }
 },
 "nbformat": 4,
 "nbformat_minor": 2
}
