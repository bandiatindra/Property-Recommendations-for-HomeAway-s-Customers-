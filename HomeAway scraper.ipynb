{
 "cells": [
  {
   "cell_type": "code",
   "execution_count": 1,
   "metadata": {},
   "outputs": [
    {
     "name": "stdout",
     "output_type": "stream",
     "text": [
      "Populating the interactive namespace from numpy and matplotlib\n"
     ]
    },
    {
     "name": "stderr",
     "output_type": "stream",
     "text": [
      "C:\\Users\\teeru\\Anaconda3\\lib\\site-packages\\IPython\\core\\magics\\pylab.py:160: UserWarning: pylab import has clobbered these variables: ['copy']\n",
      "`%matplotlib` prevents importing * from pylab and numpy\n",
      "  \"\\n`%matplotlib` prevents importing * from pylab and numpy\"\n"
     ]
    }
   ],
   "source": [
    "from time import sleep\n",
    "from selenium import webdriver\n",
    "from string import punctuation\n",
    "import re\n",
    "import nltk\n",
    "from nltk.tokenize import sent_tokenize, word_tokenize\n",
    "from nltk.corpus import stopwords\n",
    "import copy\n",
    "import matplotlib.pyplot as plt\n",
    "%pylab inline\n",
    "import numpy as np\n",
    "import pandas as pd"
   ]
  },
  {
   "cell_type": "code",
   "execution_count": 2,
   "metadata": {},
   "outputs": [],
   "source": [
    "from time import sleep"
   ]
  },
  {
   "cell_type": "code",
   "execution_count": 8,
   "metadata": {},
   "outputs": [],
   "source": [
    "driver = webdriver.Chrome('C:/Users/teeru/Downloads/chromedriver.exe')\n",
    "property_links = []\n",
    "for i in range(1,21):\n",
    "    url ='https://www.homeaway.com/results/page:' + str(i) +'/region:7116?petIncluded=false&ssr=true'\n",
    "    driver.get(url)\n",
    "    #sleep(1)\n",
    "    links = driver.find_elements_by_xpath(\"//a[@href]\")\n",
    "    for link in links:\n",
    "        property_links.append(link.get_attribute('href'))"
   ]
  },
  {
   "cell_type": "code",
   "execution_count": 9,
   "metadata": {},
   "outputs": [],
   "source": [
    "link_list = []\n",
    "for link in property_links:\n",
    "    q = re.findall (\"/p\", link)\n",
    "    p = re.findall(\"vacation-rental\",link)\n",
    "    if q !=[] and p!=[]:\n",
    "        link_list.append(link)"
   ]
  },
  {
   "cell_type": "code",
   "execution_count": 10,
   "metadata": {},
   "outputs": [],
   "source": [
    "link_list_unique = np.unique(link_list)"
   ]
  },
  {
   "cell_type": "code",
   "execution_count": 11,
   "metadata": {},
   "outputs": [],
   "source": [
    "np.savetxt(\"link_list.csv\", link_list_unique, delimiter=\",\", fmt='%s', header='Link')"
   ]
  },
  {
   "cell_type": "code",
   "execution_count": 23,
   "metadata": {},
   "outputs": [],
   "source": [
    "link_list_ll = link_list_unique[52:]"
   ]
  },
  {
   "cell_type": "code",
   "execution_count": 25,
   "metadata": {},
   "outputs": [
    {
     "data": {
      "text/plain": [
       "948"
      ]
     },
     "execution_count": 25,
     "metadata": {},
     "output_type": "execute_result"
    }
   ],
   "source": [
    "len(link_list_ll)"
   ]
  },
  {
   "cell_type": "code",
   "execution_count": null,
   "metadata": {},
   "outputs": [],
   "source": [
    "df_next = pd.DataFrame(columns = ['Property Link','Date','Review Rating','Review Tagline','Comments'])\n",
    "for link in link_list_ll:\n",
    "\n",
    "    url = link + \"#reviews\"\n",
    "    #open new property reviews page \n",
    "    driver.get(url)\n",
    "    #print(url)\n",
    "    sleep(3)\n",
    "    temp =1\n",
    "    while (temp ==1):\n",
    "        #get all ids on that page\n",
    "        ids = driver.find_elements_by_xpath(\"//*[@id]\")\n",
    "        ##get all comments by showing all reviews\n",
    "        comment_ids = []\n",
    "        #make a list of all the ids\n",
    "        for i in ids:       \n",
    "            comment_ids.append(i.get_attribute('id'))\n",
    "    \n",
    "        actual_ids = []\n",
    "        #get tha actual comment ids\n",
    "        for x in comment_ids:\n",
    "            z = re.findall (\"-\", x)\n",
    "            if len (x) == 36 and z!=[]:\n",
    "                actual_ids.append(x)\n",
    "        if actual_ids == []:\n",
    "            temp = 0\n",
    "        #print(actual_ids)\n",
    "        count = 0\n",
    "        #for each comment get attributes\n",
    "        for aid in actual_ids:\n",
    "            sleep(3)\n",
    "            #extract review tagline\n",
    "            review_tagline = driver.find_elements_by_xpath('//*[@id=\"' + aid +'\"]/div/h4')[0]\n",
    "            tagline= review_tagline.get_attribute('innerText')\n",
    "            #extract review rating\n",
    "            review_rating = driver.find_elements_by_xpath('//*[@id=\"' + aid +'\"]/div/div[1]/span[1]/span')[0] \n",
    "            rating= review_rating.get_attribute('innerText')\n",
    "            #review comment\n",
    "            review_comment = driver.find_elements_by_xpath('//*[@id=\"' + aid +'\"]/div/div[3]')[0]\n",
    "            comment= review_comment.get_attribute('innerText')\n",
    "            #extract review date\n",
    "            review_date = driver.find_elements_by_xpath('//*[@id=\"' + aid+ '\"]/div/div[4]/div/span[2]')[0]\n",
    "            date= review_date.get_attribute('innerText')\n",
    "            \n",
    "            #add review to df\n",
    "            df_next.loc[len(df_next)] = [url,date, rating, tagline, comment]\n",
    "            count +=1\n",
    "            #print(\"Count of review is\", count)\n",
    "            \n",
    "            click_button = driver.find_elements_by_xpath('//*[@id=\"reviews\"]/div/section/div/div[2]/div[1]/button[2]')\n",
    "            if click_button != []:\n",
    "                click_button = driver.find_elements_by_xpath('//*[@id=\"reviews\"]/div/section/div/div[2]/div[1]/button[2]')[0]\n",
    "                check = click_button.get_property('disabled')\n",
    "                if count ==6:\n",
    "                    if check == False:\n",
    "                        click_button.click()\n",
    "                        #print('Moved to next page')\n",
    "                        sleep(4)\n",
    "                    else:\n",
    "                        temp = 0\n",
    "                        break\n",
    "                else:\n",
    "                     if count == len(actual_ids):\n",
    "                        #print('break out of while loop when no next page')\n",
    "                        temp = 0\n",
    "                        break\n",
    "            else:\n",
    "                if count == len(actual_ids):\n",
    "                    #print(\"Only a singe page: No more reviews\")\n",
    "                    temp =0\n",
    "        "
   ]
  },
  {
   "cell_type": "code",
   "execution_count": 18,
   "metadata": {},
   "outputs": [
    {
     "data": {
      "text/plain": [
       "[]"
      ]
     },
     "execution_count": 18,
     "metadata": {},
     "output_type": "execute_result"
    }
   ],
   "source": [
    "actual_ids"
   ]
  },
  {
   "cell_type": "code",
   "execution_count": 14,
   "metadata": {},
   "outputs": [
    {
     "data": {
      "text/plain": [
       "1"
      ]
     },
     "execution_count": 14,
     "metadata": {},
     "output_type": "execute_result"
    }
   ],
   "source": [
    "temp"
   ]
  },
  {
   "cell_type": "code",
   "execution_count": 16,
   "metadata": {},
   "outputs": [
    {
     "data": {
      "text/plain": [
       "(480, 5)"
      ]
     },
     "execution_count": 16,
     "metadata": {},
     "output_type": "execute_result"
    }
   ],
   "source": [
    "df.shape"
   ]
  },
  {
   "cell_type": "code",
   "execution_count": 155,
   "metadata": {},
   "outputs": [],
   "source": [
    "driver = webdriver.Chrome('C:/Users/teeru/Downloads/chromedriver.exe')"
   ]
  },
  {
   "cell_type": "code",
   "execution_count": 17,
   "metadata": {},
   "outputs": [],
   "source": [
    "df.to_csv('comments_homeaway.csv', header=True, sep=',') "
   ]
  },
  {
   "cell_type": "markdown",
   "metadata": {},
   "source": [
    "# For a single link"
   ]
  },
  {
   "cell_type": "code",
   "execution_count": 161,
   "metadata": {},
   "outputs": [],
   "source": [
    "driver = webdriver.Chrome('C:/Users/teeru/Downloads/chromedriver.exe')\n",
    "driver.get(\"https://www.homeaway.com/vacation-rental/p1063042vb#reviews\")\n",
    "sleep(2)"
   ]
  },
  {
   "cell_type": "code",
   "execution_count": 162,
   "metadata": {},
   "outputs": [],
   "source": [
    "df_new = pd.DataFrame(columns = ['Property Link','Date','Review Rating','Review Tagline','Comments'])\n",
    "temp =1\n",
    "while (temp ==1):\n",
    "    driver.implicitly_wait(30)\n",
    "    #get all ids on that page\n",
    "    ids = driver.find_elements_by_xpath(\"//*[@id]\")\n",
    "    ##get all comments by showing all reviews\n",
    "    comment_ids = []\n",
    "    #make a list of all the ids\n",
    "    for i in ids:       \n",
    "        comment_ids.append(i.get_attribute('id'))\n",
    "    actual_ids = []\n",
    "    #get tha actual comment ids\n",
    "    for x in comment_ids:\n",
    "        if len (x) == 36:\n",
    "            actual_ids.append(x)\n",
    "        #for each comment get attributes\n",
    "    for aid in actual_ids:\n",
    "        #extract review rating\n",
    "        review_rating = driver.find_elements_by_xpath('//*[@id=\"' + aid +'\"]/div/div[1]/span[1]/span')[0] \n",
    "        rating= review_rating.get_attribute('innerText')\n",
    "        #extract review date\n",
    "        review_date = driver.find_elements_by_xpath('//*[@id=\"' + aid+ '\"]/div/div[4]/div/span[2]')[0]\n",
    "        date= review_date.get_attribute('innerText')\n",
    "        #extract review tagline\n",
    "        review_tagline = driver.find_elements_by_xpath('//*[@id=\"' + aid +'\"]/div/h4')[0]\n",
    "        tagline= review_tagline.get_attribute('innerText')\n",
    "        #review comment\n",
    "        review_comment = driver.find_elements_by_xpath('//*[@id=\"' + aid +'\"]/div/div[3]')[0]\n",
    "        comment= review_comment.get_attribute('innerText')\n",
    "        #add review to df\n",
    "        df_new.loc[len(df_new)] = [\"https://www.homeaway.com/vacation-rental/p4866864#reviews\",date, rating, tagline, comment]\n",
    "            \n",
    "    click_button = driver.find_elements_by_xpath('//*[@id=\"reviews\"]/div/section/div/div[2]/div[1]/button[2]')\n",
    "    if click_button!= []:\n",
    "        click_button = driver.find_elements_by_xpath('//*[@id=\"reviews\"]/div/section/div/div[2]/div[1]/button[2]')[0]\n",
    "        check = click_button.get_property('disabled')\n",
    "        if check == False:\n",
    "            click_button.click()\n",
    "            sleep(5)\n",
    "        else:\n",
    "            temp = 0\n",
    "    else:\n",
    "        temp =0\n",
    "            "
   ]
  },
  {
   "cell_type": "code",
   "execution_count": 165,
   "metadata": {},
   "outputs": [
    {
     "data": {
      "text/plain": [
       "True"
      ]
     },
     "execution_count": 165,
     "metadata": {},
     "output_type": "execute_result"
    }
   ],
   "source": [
    "check"
   ]
  }
 ],
 "metadata": {
  "kernelspec": {
   "display_name": "Python 3",
   "language": "python",
   "name": "python3"
  },
  "language_info": {
   "codemirror_mode": {
    "name": "ipython",
    "version": 3
   },
   "file_extension": ".py",
   "mimetype": "text/x-python",
   "name": "python",
   "nbconvert_exporter": "python",
   "pygments_lexer": "ipython3",
   "version": "3.6.5"
  }
 },
 "nbformat": 4,
 "nbformat_minor": 2
}
